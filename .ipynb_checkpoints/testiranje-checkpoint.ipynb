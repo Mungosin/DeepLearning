{
 "cells": [
  {
   "cell_type": "markdown",
   "metadata": {},
   "source": [
    "## eval ap za vise klasa.. ruzno napisan :'("
   ]
  },
  {
   "cell_type": "code",
   "execution_count": 1,
   "metadata": {
    "collapsed": false
   },
   "outputs": [
    {
     "ename": "ImportError",
     "evalue": "No module named data",
     "output_type": "error",
     "traceback": [
      "\u001b[0;31m---------------------------------------------------------------------------\u001b[0m",
      "\u001b[0;31mImportError\u001b[0m                               Traceback (most recent call last)",
      "\u001b[0;32m<ipython-input-1-27c7193a702a>\u001b[0m in \u001b[0;36m<module>\u001b[0;34m()\u001b[0m\n\u001b[1;32m      6\u001b[0m \u001b[0;32mimport\u001b[0m \u001b[0mtensorflow\u001b[0m \u001b[0;32mas\u001b[0m \u001b[0mtf\u001b[0m\u001b[0;34m\u001b[0m\u001b[0m\n\u001b[1;32m      7\u001b[0m \u001b[0;34m\u001b[0m\u001b[0m\n\u001b[0;32m----> 8\u001b[0;31m \u001b[0;32mfrom\u001b[0m \u001b[0mdata\u001b[0m \u001b[0;32mimport\u001b[0m \u001b[0msample_gmm_2d\u001b[0m\u001b[0;34m,\u001b[0m \u001b[0mgraph_data\u001b[0m\u001b[0;34m,\u001b[0m\u001b[0mgraph_surface\u001b[0m\u001b[0;34m,\u001b[0m \u001b[0mlabels_to_one_hot\u001b[0m\u001b[0;34m\u001b[0m\u001b[0m\n\u001b[0m\u001b[1;32m      9\u001b[0m \u001b[0;32mfrom\u001b[0m \u001b[0mconfusion_matrix\u001b[0m \u001b[0;32mimport\u001b[0m \u001b[0mget_confusion_matrix\u001b[0m\u001b[0;34m\u001b[0m\u001b[0m\n\u001b[1;32m     10\u001b[0m \u001b[0;32mfrom\u001b[0m \u001b[0mconfusion_matrix\u001b[0m \u001b[0;32mimport\u001b[0m \u001b[0meval_AP\u001b[0m\u001b[0;34m\u001b[0m\u001b[0m\n",
      "\u001b[0;31mImportError\u001b[0m: No module named data"
     ]
    }
   ],
   "source": [
    "import matplotlib.pyplot as plt\n",
    "import numpy as np\n",
    "from numpy import ones,vstack\n",
    "from numpy.linalg import lstsq\n",
    "from matplotlib import _cntr as cntr\n",
    "import tensorflow as tf\n",
    "\n",
    "from data import sample_gmm_2d, graph_data,graph_surface, labels_to_one_hot\n",
    "from confusion_matrix import get_confusion_matrix\n",
    "from confusion_matrix import eval_AP\n",
    "from confusion_matrix import eval_perf_multi"
   ]
  },
  {
   "cell_type": "code",
   "execution_count": 2,
   "metadata": {
    "collapsed": false
   },
   "outputs": [
    {
     "ename": "ImportError",
     "evalue": "No module named tf_deep",
     "output_type": "error",
     "traceback": [
      "\u001b[0;31m---------------------------------------------------------------------------\u001b[0m",
      "\u001b[0;31mImportError\u001b[0m                               Traceback (most recent call last)",
      "\u001b[0;32m<ipython-input-2-d86de73fec4a>\u001b[0m in \u001b[0;36m<module>\u001b[0;34m()\u001b[0m\n\u001b[0;32m----> 1\u001b[0;31m \u001b[0;32mfrom\u001b[0m \u001b[0mtf_deep\u001b[0m \u001b[0;32mimport\u001b[0m \u001b[0mTFDeep\u001b[0m\u001b[0;34m\u001b[0m\u001b[0m\n\u001b[0m\u001b[1;32m      2\u001b[0m \u001b[0mC\u001b[0m\u001b[0;34m=\u001b[0m\u001b[0;36m2\u001b[0m\u001b[0;34m\u001b[0m\u001b[0m\n\u001b[1;32m      3\u001b[0m \u001b[0mnp\u001b[0m\u001b[0;34m.\u001b[0m\u001b[0mrandom\u001b[0m\u001b[0;34m.\u001b[0m\u001b[0mseed\u001b[0m\u001b[0;34m(\u001b[0m\u001b[0;36m423245\u001b[0m\u001b[0;34m)\u001b[0m\u001b[0;34m\u001b[0m\u001b[0m\n\u001b[1;32m      4\u001b[0m \u001b[0mlayers\u001b[0m \u001b[0;34m=\u001b[0m \u001b[0;34m[\u001b[0m\u001b[0;36m2\u001b[0m\u001b[0;34m,\u001b[0m\u001b[0;36m10\u001b[0m\u001b[0;34m,\u001b[0m\u001b[0;36m10\u001b[0m\u001b[0;34m,\u001b[0m\u001b[0;36m2\u001b[0m\u001b[0;34m]\u001b[0m\u001b[0;34m\u001b[0m\u001b[0m\n\u001b[1;32m      5\u001b[0m \u001b[0minput_data\u001b[0m\u001b[0;34m,\u001b[0m \u001b[0mexpected_output\u001b[0m \u001b[0;34m=\u001b[0m \u001b[0msample_gmm_2d\u001b[0m\u001b[0;34m(\u001b[0m\u001b[0;36m6\u001b[0m\u001b[0;34m,\u001b[0m\u001b[0mC\u001b[0m\u001b[0;34m,\u001b[0m\u001b[0;36m30\u001b[0m\u001b[0;34m)\u001b[0m\u001b[0;34m\u001b[0m\u001b[0m\n",
      "\u001b[0;31mImportError\u001b[0m: No module named tf_deep"
     ]
    }
   ],
   "source": [
    "from tf_deep import TFDeep\n",
    "C=2\n",
    "np.random.seed(423245)\n",
    "layers = [2,10,10,2]\n",
    "input_data, expected_output = sample_gmm_2d(6,C,30)\n",
    "\n",
    "tfDeep = TFDeep(layers,param_delta=0.01,param_lambda=0.01,activation=tf.nn.relu,std=0.1)\n",
    "tfDeep.train(input_data,labels_to_one_hot(expected_output,C),10000,print_every=50,early_stop_after=50,minibatch=20)\n",
    "\n",
    "def predict_c1_class_tf(X):\n",
    "    def classify(X):\n",
    "        return tfDeep.eval(X)[:,1]\n",
    "    return classify\n",
    "\n",
    "\n",
    "decfun = predict_c1_class_tf(input_data)\n",
    "\n",
    "# evaluate the model on the train set\n",
    "probs = tfDeep.eval(input_data)\n",
    "\n",
    "# recover the predicted classes Y\n",
    "my_predictions = probs[:,1] >0.5\n",
    "my_predictions = my_predictions.flatten()\n",
    "\n",
    "\n",
    "# graph the decision surface\n",
    "bbox=(np.min(input_data, axis=0), np.max(input_data, axis=0))\n",
    "\n",
    "#axis limits of the graph\n",
    "xmin, ymin = bbox[0]\n",
    "xmax, ymax = bbox[1]\n",
    "plt.figure(figsize=(8,8))\n",
    "plt.xlim([xmin,xmax])\n",
    "plt.ylim([ymin,ymax])\n",
    "\n",
    "possible_labels = np.array(range(C))\n",
    "mat = get_confusion_matrix(my_predictions,expected_output,possible_labels,True)\n",
    "accuracy, prec, rec = eval_perf_multi(mat)\n",
    "AP_c0 = eval_AP(expected_output[probs[:,0].argsort()],0)\n",
    "AP_c1 = eval_AP(expected_output[probs[:,1].argsort()],1)\n",
    "\n",
    "print \"accuracy\"\n",
    "print accuracy\n",
    "print \"precision\"\n",
    "print prec\n",
    "print \"recall\"\n",
    "print rec\n",
    "print \"AP_c0\"\n",
    "print AP_c0\n",
    "print \"AP_c1\"\n",
    "print AP_c1\n",
    "\n",
    "graph_surface(decfun, bbox, offset=0.5)\n",
    "\n",
    "# graph the data points\n",
    "graph_data(input_data, expected_output, my_predictions)\n",
    "\n",
    "# show the plot\n",
    "plt.show()"
   ]
  },
  {
   "cell_type": "code",
   "execution_count": null,
   "metadata": {
    "collapsed": true
   },
   "outputs": [],
   "source": []
  }
 ],
 "metadata": {
  "kernelspec": {
   "display_name": "Python 2",
   "language": "python",
   "name": "python2"
  },
  "language_info": {
   "codemirror_mode": {
    "name": "ipython",
    "version": 2
   },
   "file_extension": ".py",
   "mimetype": "text/x-python",
   "name": "python",
   "nbconvert_exporter": "python",
   "pygments_lexer": "ipython2",
   "version": "2.7.12"
  }
 },
 "nbformat": 4,
 "nbformat_minor": 1
}
