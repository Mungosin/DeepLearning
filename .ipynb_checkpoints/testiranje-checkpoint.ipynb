{
 "cells": [
  {
   "cell_type": "markdown",
   "metadata": {},
   "source": [
    "## eval ap za vise klasa.. ruzno napisan :'("
   ]
  },
  {
   "cell_type": "code",
   "execution_count": 9,
   "metadata": {
    "collapsed": false
   },
   "outputs": [
    {
     "name": "stdout",
     "output_type": "stream",
     "text": [
      "0.325\n"
     ]
    }
   ],
   "source": [
    "from copy import deepcopy\n",
    "import numpy as np\n",
    "from Lab1.confusion_matrix import eval_AP\n",
    "# def eval_AP(Y_ranked,Class):\n",
    "#     y_ranked_local = np.array(deepcopy(Y_ranked))\n",
    "#     loc_true = np.where(y_ranked_local == Class)\n",
    "#     loc_false = np.where(y_ranked_local != Class)\n",
    "#     y_ranked_local[loc_true] = 1\n",
    "#     y_ranked_local[loc_false] = 0\n",
    "#     print y_ranked_local\n",
    "#     numerator = np.sum([average_precision_at_index(y_ranked_local,index)*element for index,element in enumerate(y_ranked_local)])\n",
    "#     denominator = np.sum(y_ranked_local)\n",
    "#     if denominator == 0:\n",
    "#         return 0.0\n",
    "#     return numerator/denominator\n",
    "\n",
    "# def average_precision_at_index(Yranked,index):\n",
    "#     if index > len(Yranked):\n",
    "#         raise Exception(\"Index out of range\")\n",
    "#     Ypredicted = np.zeros(Yranked.shape)\n",
    "#     Ypredicted[index:]=1\n",
    "#     TP,TN,FP,FN = get_statistical_data(Ypredicted,Yranked)\n",
    "#     if TP == 0 and FP == 0:\n",
    "#         return 0.0\n",
    "#     return get_precision(TP,FP)\n",
    "\n",
    "# def get_statistical_data(Y,Y_):\n",
    "#     correct_classification = Y[np.where(Y==Y_)]\n",
    "#     incorrect_classification = Y[np.where(Y!=Y_)]\n",
    "#     TP = len(correct_classification[np.where(correct_classification==1)])\n",
    "#     TN = len(correct_classification[np.where(correct_classification==0)])\n",
    "#     FP = len(incorrect_classification[np.where(incorrect_classification==1)])\n",
    "#     FN = len(incorrect_classification[np.where(incorrect_classification==0)])\n",
    "#     return TP,TN,FP,FN\n",
    "\n",
    "# def get_precision(TP,FP):\n",
    "#     return (1.*TP)/(TP+FP)\n",
    "\n",
    "ytest = np.array([0.5,0.9,0.3,0.4,0.25,0.6,0.3,0.33])\n",
    "#print zip(ytest,yTrue)\n",
    "#print yTrue[ytest.argsort()]\n",
    "#print eval_AP(yTrue[ytest.argsort()],1)\n",
    "print eval_AP([0,0,2,2,0,0,1],2)"
   ]
  },
  {
   "cell_type": "markdown",
   "metadata": {},
   "source": [
    "## eval perf za multiklass"
   ]
  },
  {
   "cell_type": "code",
   "execution_count": 7,
   "metadata": {
    "collapsed": false
   },
   "outputs": [
    {
     "name": "stdout",
     "output_type": "stream",
     "text": [
      "        0   1   2\n",
      "   0[   2   2   0]\n",
      "   1[   1   0   0]\n",
      "   2[   0   0   3]\n",
      "[0.66666666666666663, 0.0, 1.0] [0.5, 0.0, 1.0]\n"
     ]
    }
   ],
   "source": [
    "from Lab1.confusion_matrix import get_confusion_matrix\n",
    "import numpy as np\n",
    "def eval_perf_multi(conf_matrix):\n",
    "    precision = []\n",
    "    recall = []\n",
    "    for i in range(len(mat)):\n",
    "        element = mat[i][i]\n",
    "        precision_sum = 0.\n",
    "        recall_sum = 0.\n",
    "        for j in range(len(mat)):\n",
    "            precision_sum += mat[j][i]\n",
    "            recall_sum += mat[i][j]\n",
    "        precision.append(element/precision_sum)\n",
    "        recall.append(element/recall_sum)\n",
    "    return precision, recall\n",
    "\n",
    "yTrue = [0,1,2,0,0,0,2,2]\n",
    "yPred = [0,0,2,1,1,0,2,2]\n",
    "\n",
    "mat = get_confusion_matrix(yPred,yTrue, np.unique(yTrue),True,4)\n",
    "prec, rec = eval_perf_multi(mat)\n",
    "print prec, rec"
   ]
  },
  {
   "cell_type": "code",
   "execution_count": null,
   "metadata": {
    "collapsed": true
   },
   "outputs": [],
   "source": []
  }
 ],
 "metadata": {
  "kernelspec": {
   "display_name": "Python 2",
   "language": "python",
   "name": "python2"
  },
  "language_info": {
   "codemirror_mode": {
    "name": "ipython",
    "version": 2
   },
   "file_extension": ".py",
   "mimetype": "text/x-python",
   "name": "python",
   "nbconvert_exporter": "python",
   "pygments_lexer": "ipython2",
   "version": "2.7.12"
  }
 },
 "nbformat": 4,
 "nbformat_minor": 1
}
